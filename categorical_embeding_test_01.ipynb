{
  "nbformat": 4,
  "nbformat_minor": 0,
  "metadata": {
    "colab": {
      "name": "categorical_embeding_test_01.ipynb",
      "provenance": [],
      "authorship_tag": "ABX9TyPDIHE7opmC4YdZwgC2HE9w",
      "include_colab_link": true
    },
    "kernelspec": {
      "name": "python3",
      "display_name": "Python 3"
    }
  },
  "cells": [
    {
      "cell_type": "markdown",
      "metadata": {
        "id": "view-in-github",
        "colab_type": "text"
      },
      "source": [
        "<a href=\"https://colab.research.google.com/github/mojassameh/Exercises/blob/master/categorical_embeding_test_01.ipynb\" target=\"_parent\"><img src=\"https://colab.research.google.com/assets/colab-badge.svg\" alt=\"Open In Colab\"/></a>"
      ]
    },
    {
      "cell_type": "code",
      "metadata": {
        "id": "cbQbHqFq69pG",
        "colab_type": "code",
        "outputId": "83d2c20c-c876-4d1d-cc32-ef2ff674f31c",
        "colab": {
          "base_uri": "https://localhost:8080/",
          "height": 68
        }
      },
      "source": [
        "# ! pip install shap\n",
        "import tensorflow as tf\n",
        "from sklearn.preprocessing import LabelEncoder\n",
        "import shap\n",
        "from sklearn.preprocessing import StandardScaler\n",
        "\n",
        "data,labels = shap.datasets.adult(display=True)\n",
        "data.select_dtypes('category').columns"
      ],
      "execution_count": 53,
      "outputs": [
        {
          "output_type": "execute_result",
          "data": {
            "text/plain": [
              "Index(['Workclass', 'Marital Status', 'Occupation', 'Relationship', 'Race',\n",
              "       'Sex', 'Country'],\n",
              "      dtype='object')"
            ]
          },
          "metadata": {
            "tags": []
          },
          "execution_count": 53
        }
      ]
    },
    {
      "cell_type": "code",
      "metadata": {
        "id": "3GCimdo77FZJ",
        "colab_type": "code",
        "colab": {}
      },
      "source": [
        "models = []\n",
        "inputs = []"
      ],
      "execution_count": 0,
      "outputs": []
    },
    {
      "cell_type": "code",
      "metadata": {
        "id": "mcrsO9LC7Zq6",
        "colab_type": "code",
        "colab": {}
      },
      "source": [
        "cat_features = data.select_dtypes('category').columns"
      ],
      "execution_count": 0,
      "outputs": []
    },
    {
      "cell_type": "code",
      "metadata": {
        "id": "9uVbseT2AjrV",
        "colab_type": "code",
        "colab": {}
      },
      "source": [
        "num_features = data.select_dtypes('number').columns"
      ],
      "execution_count": 0,
      "outputs": []
    },
    {
      "cell_type": "code",
      "metadata": {
        "id": "oC9L491JAmRc",
        "colab_type": "code",
        "colab": {}
      },
      "source": [
        "for col in cat_features:\n",
        "    encoder = LabelEncoder()\n",
        "    data[col] = encoder.fit_transform(data[col])"
      ],
      "execution_count": 0,
      "outputs": []
    },
    {
      "cell_type": "code",
      "metadata": {
        "id": "9kBxEPhC7qBs",
        "colab_type": "code",
        "colab": {}
      },
      "source": [
        "for cat in cat_features:\n",
        "  vocab_size = data[cat].nunique()\n",
        "  input = tf.keras.Input(shape=(1,),name='input_'+'_'.join(cat.split(' ')))\n",
        "  inputs.append(input)\n",
        "  embed = tf.keras.layers.Embedding(vocab_size,200,\\\n",
        "                                          trainable=True,embeddings_initializer=tf.initializers.RandomNormal)(input)\n",
        "  embed_rehsaped =tf.keras.layers.Reshape(target_shape=(200,))(embed)\n",
        "  models.append(embed_rehsaped)"
      ],
      "execution_count": 0,
      "outputs": []
    },
    {
      "cell_type": "code",
      "metadata": {
        "id": "XmvAkpaU8u-J",
        "colab_type": "code",
        "colab": {}
      },
      "source": [
        "num_input = tf.keras.layers.Input(shape=(len(num_features)),\\\n",
        "                                      name='input_number_features')\n",
        "inputs.append(num_input)\n",
        "models.append(num_input)"
      ],
      "execution_count": 0,
      "outputs": []
    },
    {
      "cell_type": "code",
      "metadata": {
        "id": "ZFzbCqM080B2",
        "colab_type": "code",
        "colab": {}
      },
      "source": [
        "merge_models= tf.keras.layers.concatenate(models)\n",
        "pre_preds = tf.keras.layers.Dense(1000)(merge_models)\n",
        "pre_preds = tf.keras.layers.BatchNormalization()(pre_preds)\n",
        "pre_preds = tf.keras.layers.Dense(1000)(pre_preds)\n",
        "pre_preds = tf.keras.layers.BatchNormalization()(pre_preds)"
      ],
      "execution_count": 0,
      "outputs": []
    },
    {
      "cell_type": "code",
      "metadata": {
        "id": "iaOgVLrY83dj",
        "colab_type": "code",
        "colab": {}
      },
      "source": [
        "pred = tf.keras.layers.Dense(1,activation='sigmoid')(pre_preds)\n",
        "model_full = tf.keras.models.Model(inputs= inputs,\\\n",
        "                                    outputs =pred)\n",
        "model_full.compile(loss=tf.keras.losses.binary_crossentropy,\\\n",
        "                    metrics=['accuracy'],\n",
        "                    optimizer='adam')"
      ],
      "execution_count": 0,
      "outputs": []
    },
    {
      "cell_type": "code",
      "metadata": {
        "id": "oGSo-xHF_oh_",
        "colab_type": "code",
        "colab": {}
      },
      "source": [
        "train = data.copy()\n",
        "scaler = StandardScaler()\n",
        "train[num_features] = scaler.fit_transform(train[num_features])\n",
        "input_dict= {\n",
        "    'input_Workclass':train[cat_features[0]],\n",
        "    \"input_Marital_Status\":train[cat_features[1]],\n",
        "    \"input_Occupation\":train[cat_features[2]],\n",
        "    \"input_Relationship\":train[cat_features[3]],\n",
        "    \"input_Race\":train[cat_features[4]],\n",
        "    \"input_Sex\":train[cat_features[5]],\n",
        "    \"input_Country\":train[cat_features[6]],\n",
        "    \"input_number_features\": train[num_features]\n",
        "}"
      ],
      "execution_count": 0,
      "outputs": []
    },
    {
      "cell_type": "code",
      "metadata": {
        "id": "uTV6iIyG_-uG",
        "colab_type": "code",
        "colab": {
          "base_uri": "https://localhost:8080/",
          "height": 1000
        },
        "outputId": "074aaaa8-06bd-41a7-873a-1aebd71fb6b9"
      },
      "source": [
        "model_full.fit(input_dict,labels*1,epochs=50,batch_size=64,class_weight={0:0.5,1:0.5})"
      ],
      "execution_count": 0,
      "outputs": [
        {
          "output_type": "stream",
          "text": [
            "Epoch 1/50\n",
            "509/509 [==============================] - 20s 38ms/step - loss: 0.2034 - accuracy: 0.8269\n",
            "Epoch 2/50\n",
            "509/509 [==============================] - 20s 39ms/step - loss: 0.1725 - accuracy: 0.8369\n",
            "Epoch 3/50\n",
            "509/509 [==============================] - 20s 39ms/step - loss: 0.1714 - accuracy: 0.8404\n",
            "Epoch 4/50\n",
            "509/509 [==============================] - 19s 38ms/step - loss: 0.1702 - accuracy: 0.8392\n",
            "Epoch 5/50\n",
            "509/509 [==============================] - 19s 37ms/step - loss: 0.1673 - accuracy: 0.8442\n",
            "Epoch 6/50\n",
            "509/509 [==============================] - 19s 38ms/step - loss: 0.1672 - accuracy: 0.8444\n",
            "Epoch 7/50\n",
            "509/509 [==============================] - 19s 38ms/step - loss: 0.1670 - accuracy: 0.8432\n",
            "Epoch 8/50\n",
            "509/509 [==============================] - 19s 38ms/step - loss: 0.1660 - accuracy: 0.8451\n",
            "Epoch 9/50\n",
            "509/509 [==============================] - 19s 38ms/step - loss: 0.1658 - accuracy: 0.8462\n",
            "Epoch 10/50\n",
            "509/509 [==============================] - 19s 38ms/step - loss: 0.1661 - accuracy: 0.8467\n",
            "Epoch 11/50\n",
            "509/509 [==============================] - 19s 37ms/step - loss: 0.1647 - accuracy: 0.8481\n",
            "Epoch 12/50\n",
            "509/509 [==============================] - 19s 38ms/step - loss: 0.1642 - accuracy: 0.8480\n",
            "Epoch 13/50\n",
            "509/509 [==============================] - 19s 38ms/step - loss: 0.1653 - accuracy: 0.8484\n",
            "Epoch 14/50\n",
            "509/509 [==============================] - 19s 38ms/step - loss: 0.1641 - accuracy: 0.8482\n",
            "Epoch 15/50\n",
            "509/509 [==============================] - 19s 38ms/step - loss: 0.1645 - accuracy: 0.8482\n",
            "Epoch 16/50\n",
            "509/509 [==============================] - 24s 48ms/step - loss: 0.1645 - accuracy: 0.8478\n",
            "Epoch 17/50\n",
            "509/509 [==============================] - 20s 39ms/step - loss: 0.1644 - accuracy: 0.8485\n",
            "Epoch 18/50\n",
            "509/509 [==============================] - 19s 38ms/step - loss: 0.1650 - accuracy: 0.8481\n",
            "Epoch 19/50\n",
            "509/509 [==============================] - 19s 37ms/step - loss: 0.1648 - accuracy: 0.8482\n",
            "Epoch 20/50\n",
            "509/509 [==============================] - 20s 40ms/step - loss: 0.1643 - accuracy: 0.8482\n",
            "Epoch 21/50\n",
            "509/509 [==============================] - 19s 38ms/step - loss: 0.1638 - accuracy: 0.8491\n",
            "Epoch 22/50\n",
            "509/509 [==============================] - 19s 37ms/step - loss: 0.1644 - accuracy: 0.8474\n",
            "Epoch 23/50\n",
            "509/509 [==============================] - 19s 37ms/step - loss: 0.1649 - accuracy: 0.8474\n",
            "Epoch 24/50\n",
            "509/509 [==============================] - 20s 38ms/step - loss: 0.1636 - accuracy: 0.8487\n",
            "Epoch 25/50\n",
            "509/509 [==============================] - 19s 37ms/step - loss: 0.1637 - accuracy: 0.8492\n",
            "Epoch 26/50\n",
            "509/509 [==============================] - 19s 37ms/step - loss: 0.1636 - accuracy: 0.8495\n",
            "Epoch 27/50\n",
            "509/509 [==============================] - 19s 37ms/step - loss: 0.1642 - accuracy: 0.8479\n",
            "Epoch 28/50\n",
            "509/509 [==============================] - 19s 38ms/step - loss: 0.1633 - accuracy: 0.8495\n",
            "Epoch 29/50\n",
            "509/509 [==============================] - 19s 37ms/step - loss: 0.1634 - accuracy: 0.8489\n",
            "Epoch 30/50\n",
            "509/509 [==============================] - 19s 37ms/step - loss: 0.1634 - accuracy: 0.8487\n",
            "Epoch 31/50\n",
            "509/509 [==============================] - 19s 38ms/step - loss: 0.1637 - accuracy: 0.8486\n",
            "Epoch 32/50\n",
            "509/509 [==============================] - 19s 37ms/step - loss: 0.1635 - accuracy: 0.8498\n",
            "Epoch 33/50\n",
            "278/509 [===============>..............] - ETA: 8s - loss: 0.1664 - accuracy: 0.8473"
          ],
          "name": "stdout"
        }
      ]
    },
    {
      "cell_type": "code",
      "metadata": {
        "id": "kPvpDFLN__zd",
        "colab_type": "code",
        "colab": {}
      },
      "source": [
        ""
      ],
      "execution_count": 0,
      "outputs": []
    }
  ]
}