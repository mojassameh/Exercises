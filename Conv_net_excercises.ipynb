{
  "nbformat": 4,
  "nbformat_minor": 0,
  "metadata": {
    "colab": {
      "name": "Conv_net_excercises.ipynb",
      "provenance": [],
      "authorship_tag": "ABX9TyOyZUxPSRHIfk/Ac5UoLdtq",
      "include_colab_link": true
    },
    "kernelspec": {
      "name": "python3",
      "display_name": "Python 3"
    }
  },
  "cells": [
    {
      "cell_type": "markdown",
      "metadata": {
        "id": "view-in-github",
        "colab_type": "text"
      },
      "source": [
        "<a href=\"https://colab.research.google.com/github/mojassameh/Exercises/blob/master/Conv_net_excercises.ipynb\" target=\"_parent\"><img src=\"https://colab.research.google.com/assets/colab-badge.svg\" alt=\"Open In Colab\"/></a>"
      ]
    },
    {
      "cell_type": "code",
      "metadata": {
        "id": "PrJvWoHH77pc",
        "colab_type": "code",
        "colab": {}
      },
      "source": [
        "import tensorflow as tf\n",
        "from tensorflow.keras import datasets, layers, models, optimizers\n",
        "# network and training\n",
        "EPOCHS = 5\n",
        "BATCH_SIZE = 128\n",
        "VERBOSE = 1\n",
        "OPTIMIZER = tf.keras.optimizers.Adam()\n",
        "VALIDATION_SPLIT=0.95\n",
        "IMG_ROWS, IMG_COLS = 28, 28 # input image dimensions\n",
        "INPUT_SHAPE = (IMG_ROWS, IMG_COLS, 1)\n",
        "NB_CLASSES = 10  # number of outputs = number of digits"
      ],
      "execution_count": 0,
      "outputs": []
    },
    {
      "cell_type": "code",
      "metadata": {
        "id": "HWsFpovj8DlE",
        "colab_type": "code",
        "colab": {}
      },
      "source": [
        "#define the convnet\n",
        "def build(input_shape, classes):\n",
        "  model = models.Sequential()\n",
        "  # CONV => RELU => POOL\n",
        "  model.add(layers.Convolution2D(20, (5, 5), activation='relu', input_shape=INPUT_SHAPE))\n",
        "  model.add(layers.MaxPooling2D(pool_size=(2, 2), strides=(2, 2)))\n",
        "  # CONV => RELU => POOL\n",
        "  model.add(layers.Convolution2D(50, (5, 5), activation='relu'))\n",
        "  model.add(layers.MaxPooling2D(pool_size=(2, 2), strides=(2, 2)))\n",
        "  # Flatten => RELU layers\n",
        "  model.add(layers.Flatten())\n",
        "  model.add(layers.Dense(500, activation='relu'))\n",
        "  # a softmax classifier\n",
        "  model.add(layers.Dense(classes, activation=\"softmax\"))\n",
        "  return model\n"
      ],
      "execution_count": 0,
      "outputs": []
    },
    {
      "cell_type": "code",
      "metadata": {
        "id": "Qj8mV60Z8G3D",
        "colab_type": "code",
        "colab": {}
      },
      "source": [
        "from tensorflow.keras import datasets,layers, models"
      ],
      "execution_count": 0,
      "outputs": []
    },
    {
      "cell_type": "code",
      "metadata": {
        "id": "EY7fVW7T8NTP",
        "colab_type": "code",
        "colab": {}
      },
      "source": [
        "model = models.Sequential"
      ],
      "execution_count": 0,
      "outputs": []
    },
    {
      "cell_type": "code",
      "metadata": {
        "id": "QPLk4xJ08UW8",
        "colab_type": "code",
        "colab": {}
      },
      "source": [
        "def build_model():\n",
        "       model = models.Sequential()\n",
        "       # 1st block\n",
        "       model.add(layers.Conv2D(32, (3,3), padding='same', input_shape=x_train.shape[1:], activation='relu'))\n",
        "       model.add(layers.BatchNormalization())\n",
        "       model.add(layers.Conv2D(32, (3,3), padding='same', activation='relu'))\n",
        "       model.add(layers.BatchNormalization())\n",
        "       model.add(layers.MaxPooling2D(pool_size=(2,2)))\n",
        "       model.add(layers.Dropout(0.2))\n",
        "# 2nd block\n",
        "       model.add(layers.Conv2D(64, (3,3), padding='same', activation='relu'))\n",
        "       model.add(layers.BatchNormalization())\n",
        "       model.add(layers.Conv2D(64, (3,3), padding='same', activation='relu'))\n",
        "       model.add(layers.BatchNormalization())\n",
        "       model.add(layers.MaxPooling2D(pool_size=(2,2)))\n",
        "       model.add(layers.Dropout(0.3))\n",
        "# 3d block\n",
        "       model.add(layers.Conv2D(128, (3,3), padding='same', activation='relu'))\n",
        "       model.add(layers.BatchNormalization())\n",
        "       model.add(layers.Conv2D(128, (3,3), padding='same', activation='relu'))\n",
        "       model.add(layers.BatchNormalization())\n",
        "       model.add(layers.MaxPooling2D(pool_size=(2,2)))\n",
        "       model.add(layers.Dropout(0.4))\n",
        "       # dense\n",
        "       model.add(layers.Flatten())\n",
        "       model.add(layers.Dense(NUM_CLASSES, activation='softmax'))\n",
        "       return model\n",
        "       model.summary()"
      ],
      "execution_count": 0,
      "outputs": []
    }
  ]
}